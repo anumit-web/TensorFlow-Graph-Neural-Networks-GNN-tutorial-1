{
  "nbformat": 4,
  "nbformat_minor": 0,
  "metadata": {
    "colab": {
      "provenance": [],
      "include_colab_link": true
    },
    "kernelspec": {
      "name": "python3",
      "display_name": "Python 3"
    },
    "language_info": {
      "name": "python"
    }
  },
  "cells": [
    {
      "cell_type": "markdown",
      "metadata": {
        "id": "view-in-github",
        "colab_type": "text"
      },
      "source": [
        "<a href=\"https://colab.research.google.com/github/anumit-web/TensorFlow-Graph-Neural-Networks-GNN-tutorial-1/blob/main/TensorFlow_Graph_Neural_Networks_GNN_test_1.ipynb\" target=\"_parent\"><img src=\"https://colab.research.google.com/assets/colab-badge.svg\" alt=\"Open In Colab\"/></a>"
      ]
    },
    {
      "cell_type": "markdown",
      "source": [
        "## TensorFlow\n",
        "## Graph-Neural-Networks-GNN"
      ],
      "metadata": {
        "id": "Oddud14LnY0w"
      }
    },
    {
      "cell_type": "code",
      "source": [
        "import pygraphviz as pgv\n",
        "from tqdm import tqdm\n",
        "from IPython.display import Image\n",
        "\n",
        "import tensorflow as tf\n",
        "tf.get_logger().setLevel('ERROR')\n",
        "\n",
        "import tensorflow_gnn as tfgnn\n",
        "import tensorflow_datasets as tfds\n",
        "\n",
        "from tensorflow_gnn import runner\n",
        "from tensorflow_gnn.models import gat_v2\n",
        "\n",
        "print(f'Using TensorFlow v{tf.__version__} and TensorFlow-GNN v{tfgnn.__version__}')\n",
        "print(f'GPUs available: {tf.config.list_physical_devices(\"GPU\")}')"
      ],
      "metadata": {
        "id": "fYXJBjdl67cL"
      },
      "execution_count": null,
      "outputs": []
    }
  ]
}